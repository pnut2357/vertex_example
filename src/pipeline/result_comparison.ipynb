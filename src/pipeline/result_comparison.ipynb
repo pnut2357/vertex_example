{
 "cells": [
  {
   "cell_type": "code",
   "execution_count": 42,
   "id": "6f0efd76-35bc-4795-a01f-41461fca4671",
   "metadata": {},
   "outputs": [],
   "source": [
    "import pandas as pd\n",
    "from google.cloud import bigquery\n",
    "import sys\n",
    "from pathlib import Path\n",
    "import os\n",
    "\n",
    "sys.path.append(str(Path(\".\").absolute().parent))\n",
    "sys.path.append(str(Path(\".\").absolute().parent) + \"/utils\")\n",
    "sys.path.append(str(Path(\".\").absolute().parent.parent))\n",
    "sys.path.append(str(Path(\".\").absolute().parent.parent.parent))\n",
    "\n",
    "import pipeline_utils\n",
    "import argparse\n",
    "import mlflow"
   ]
  },
  {
   "cell_type": "code",
   "execution_count": 21,
   "id": "73514dd4-850c-4d57-a2e7-79054b0d839c",
   "metadata": {},
   "outputs": [],
   "source": [
    "PARAMS = pipeline_utils.yaml_import('settings.yml')\n",
    "\n",
    "ENV = PARAMS['env_flag']\n",
    "\n",
    "PROJECT_ID = PARAMS['envs'][ENV]['PROJECT_ID']"
   ]
  },
  {
   "cell_type": "code",
   "execution_count": 35,
   "id": "abe45367-c320-45f4-abb1-5801c634f84d",
   "metadata": {},
   "outputs": [],
   "source": [
    "parser = argparse.ArgumentParser()\n",
    "parser.add_argument(\"--MODE\", required=True, type=str)\n",
    "parser.add_argument(\"--STAGE1_FLAG\", required=True, type=str)\n",
    "parser.add_argument(\"--ENSEMBLE_FLAG\", required=True, type=str)\n",
    "parser.add_argument(\"--RF_CLF_MODEL_PATH\", required=True, type=str)\n",
    "parser.add_argument(\"--LOGISTIC_CLF_MODEL_PATH\", required=True, type=str)\n",
    "parser.add_argument(\"--STAGE1_NN_MODEL_PATH\", required=True, type=str)\n",
    "parser.add_argument(\"--GNB_MODEL_PATH\", required=True, type=str)\n",
    "parser.add_argument(\"--STG1_FEATURE_SELECTOR_MODEL_PATH\", required=True, type=str)\n",
    "parser.add_argument(\"--NOSALES_MODEL_PATH\", required=True, type=str)\n",
    "sys.args = [\n",
    "    \"--MODE\", \"test\",\n",
    "    \"--STAGE1_FLAG\", \"train\",\n",
    "    \"--ENSEMBLE_FLAG\", \"train\",\n",
    "    \"--RF_CLF_MODEL_PATH\", \"\",\n",
    "    \"--LOGISTIC_CLF_MODEL_PATH\", \"\",\n",
    "    \"--STAGE1_NN_MODEL_PATH\", \"\",\n",
    "    \"--GNB_MODEL_PATH\", \"\",\n",
    "    \"--STG1_FEATURE_SELECTOR_MODEL_PATH\", \"\",\n",
    "    \"--NOSALES_MODEL_PATH\", \"\",\n",
    "]\n",
    "args = parser.parse_args(sys.args)"
   ]
  },
  {
   "cell_type": "code",
   "execution_count": 17,
   "id": "cc5871a4-04b8-462a-a8d5-daf0f52559d6",
   "metadata": {},
   "outputs": [],
   "source": [
    "# result_path = \"gs://oyi-ds-vertex-pipeline-bucket-nonprod/335163835346/oyi-nosales-model-pipeline-dev-20221102171002/update-thresholds_-6212966924364546048/club_threshold_output\"\n",
    "# a = pd.read_csv(result_path)\n",
    "\n",
    "c = bigquery.Client(project=PROJECT_ID)\n",
    "nosales_test_ext_table = \"oyi_test.downsampled_oyi_nosales_test_ext\"\n",
    "nosales_test_ext = c.query(f\"SELECT * FROM {nosales_test_ext_table}\").to_dataframe()"
   ]
  },
  {
   "cell_type": "code",
   "execution_count": 41,
   "id": "c9fb52d1-b510-4949-945e-9aa4bb7526d4",
   "metadata": {},
   "outputs": [
    {
     "name": "stdout",
     "output_type": "stream",
     "text": [
      "None\n"
     ]
    }
   ],
   "source": [
    "print(os.getenv('schema'))\n"
   ]
  },
  {
   "cell_type": "code",
   "execution_count": 71,
   "id": "47d42e97-1ae8-4ffe-a816-6e5d9a4087cf",
   "metadata": {},
   "outputs": [
    {
     "name": "stdout",
     "output_type": "stream",
     "text": [
      "gs://oyi-ds-vertex-pipeline-bucket-nonprod/intro_20221017234643-dev.json\n",
      "gs://oyi-ds-vertex-pipeline-bucket-nonprod/latest_nosales_model_output_dev\n",
      "gs://oyi-ds-vertex-pipeline-bucket-nonprod/latest_nosales_model_output_dev.json\n",
      "gs://oyi-ds-vertex-pipeline-bucket-nonprod/latest_nosales_model_output_stage\n",
      "gs://oyi-ds-vertex-pipeline-bucket-nonprod/latest_training_pipeline_dev.json\n",
      "gs://oyi-ds-vertex-pipeline-bucket-nonprod/latest_training_pipeline_stage.json\n",
      "gs://oyi-ds-vertex-pipeline-bucket-nonprod/oyi-nosales-model-pipeline-dev_dev_08c758e7160a9dcc157bec22f0fb83ca5293a2b9.json\n",
      "gs://oyi-ds-vertex-pipeline-bucket-nonprod/oyi-nosales-model-pipeline-dev_dev_130fb3eb2d9b58a3be6eeddf38a1c59bb734621e.json\n",
      "gs://oyi-ds-vertex-pipeline-bucket-nonprod/oyi-nosales-model-pipeline-dev_dev_1544ee328759d357c0b0bdbf36cdf652a135b5f7.json\n",
      "gs://oyi-ds-vertex-pipeline-bucket-nonprod/oyi-nosales-model-pipeline-dev_dev_1d9953c2e5a2ff2e7be84c7b320f9ac872a979f7.json\n",
      "gs://oyi-ds-vertex-pipeline-bucket-nonprod/oyi-nosales-model-pipeline-dev_dev_29c7ea2ce5f461e1cdde97134b3ea14e47adfe5f.json\n",
      "gs://oyi-ds-vertex-pipeline-bucket-nonprod/oyi-nosales-model-pipeline-dev_dev_2c77127282661dfe8e31ef8b484f410816dacfb0.json\n",
      "gs://oyi-ds-vertex-pipeline-bucket-nonprod/oyi-nosales-model-pipeline-dev_dev_2fad8ebf66174202b9a1f93916b70b5925458c1c.json\n",
      "gs://oyi-ds-vertex-pipeline-bucket-nonprod/oyi-nosales-model-pipeline-dev_dev_408e1470357d328c68214667015c453a11637098.json\n",
      "gs://oyi-ds-vertex-pipeline-bucket-nonprod/oyi-nosales-model-pipeline-dev_dev_4a969444a93665b1cc251b4515cf2ace1860456b.json\n",
      "gs://oyi-ds-vertex-pipeline-bucket-nonprod/oyi-nosales-model-pipeline-dev_dev_53970b08ec0d7aee70c66a86ba545997977d0185.json\n",
      "gs://oyi-ds-vertex-pipeline-bucket-nonprod/oyi-nosales-model-pipeline-dev_dev_55ba517b2315924eab3e0148de643e48a933d84f.json\n",
      "gs://oyi-ds-vertex-pipeline-bucket-nonprod/oyi-nosales-model-pipeline-dev_dev_679a1b2fe2ff89e59b54b645ed4fbeda9dcedc39.json\n",
      "gs://oyi-ds-vertex-pipeline-bucket-nonprod/oyi-nosales-model-pipeline-dev_dev_70b0964faffee89ed2dcadae424fc8222a32a3bb.json\n",
      "gs://oyi-ds-vertex-pipeline-bucket-nonprod/oyi-nosales-model-pipeline-dev_dev_79b50d84430495b21737bb234b447d969a75f38a.json\n",
      "gs://oyi-ds-vertex-pipeline-bucket-nonprod/oyi-nosales-model-pipeline-dev_dev_8769a5a4d37cb2312b71ec32fc2fc687d8bc4c5c.json\n",
      "gs://oyi-ds-vertex-pipeline-bucket-nonprod/oyi-nosales-model-pipeline-dev_dev_a2e898c8265126324bcf9d21537186be8d91c8fd.json\n",
      "gs://oyi-ds-vertex-pipeline-bucket-nonprod/oyi-nosales-model-pipeline-dev_dev_aa02cebcaaa24058e836a9fe29cd29c8b80ab78b.json\n",
      "gs://oyi-ds-vertex-pipeline-bucket-nonprod/oyi-nosales-model-pipeline-dev_dev_b092d6da9d0bc2e197eefdf4b6591024027c8cae.json\n",
      "gs://oyi-ds-vertex-pipeline-bucket-nonprod/oyi-nosales-model-pipeline-dev_dev_cdd3a61ffa4f806f147d3a5f79d8ca77d5ef16e4.json\n",
      "gs://oyi-ds-vertex-pipeline-bucket-nonprod/oyi-nosales-model-pipeline-dev_dev_da8a62f13be9a76b0dd42304fbc69e6a8bec0081.json\n",
      "gs://oyi-ds-vertex-pipeline-bucket-nonprod/oyi-nosales-model-pipeline-dev_dev_dd0e698d662618a1131bd93769153e0dfff3d3e7.json\n",
      "gs://oyi-ds-vertex-pipeline-bucket-nonprod/oyi-nosales-model-pipeline-dev_dev_e54fb8ecdb6348c715243463ffab579de148c237.json\n",
      "gs://oyi-ds-vertex-pipeline-bucket-nonprod/335163835346/\n",
      "gs://oyi-ds-vertex-pipeline-bucket-nonprod/all_level_tpr_dev/\n"
     ]
    }
   ],
   "source": [
    "!gsutil ls gs://oyi-ds-vertex-pipeline-bucket-nonprod"
   ]
  },
  {
   "cell_type": "code",
   "execution_count": 61,
   "id": "e836222f-9245-4c21-91df-a1a68e31aa89",
   "metadata": {},
   "outputs": [
    {
     "name": "stdout",
     "output_type": "stream",
     "text": [
      "gs://oyi-ds-vertex-pipeline-bucket-nonprod/latest_nosales_model_output_dev\n"
     ]
    }
   ],
   "source": [
    "!gsutil ls gs://oyi-ds-vertex-pipeline-bucket-nonprod/latest_nosales_model_output_dev"
   ]
  },
  {
   "cell_type": "code",
   "execution_count": 67,
   "id": "b7f2b77e-708a-4cc4-bc96-747ee58153ed",
   "metadata": {},
   "outputs": [
    {
     "ename": "TypeError",
     "evalue": "file must have 'read' and 'readline' attributes",
     "output_type": "error",
     "traceback": [
      "\u001b[0;31m---------------------------------------------------------------------------\u001b[0m",
      "\u001b[0;31mTypeError\u001b[0m                                 Traceback (most recent call last)",
      "\u001b[0;32m/tmp/ipykernel_28327/701783720.py\u001b[0m in \u001b[0;36m<module>\u001b[0;34m\u001b[0m\n\u001b[1;32m     17\u001b[0m \u001b[0mblob\u001b[0m \u001b[0;34m=\u001b[0m \u001b[0mbucket\u001b[0m\u001b[0;34m.\u001b[0m\u001b[0mblob\u001b[0m\u001b[0;34m(\u001b[0m\u001b[0;34m'latest_nosales_model_output_dev'\u001b[0m\u001b[0;34m)\u001b[0m\u001b[0;34m\u001b[0m\u001b[0;34m\u001b[0m\u001b[0m\n\u001b[1;32m     18\u001b[0m \u001b[0mpickle_in\u001b[0m \u001b[0;34m=\u001b[0m \u001b[0mblob\u001b[0m\u001b[0;34m.\u001b[0m\u001b[0mdownload_as_string\u001b[0m\u001b[0;34m(\u001b[0m\u001b[0;34m)\u001b[0m\u001b[0;34m\u001b[0m\u001b[0;34m\u001b[0m\u001b[0m\n\u001b[0;32m---> 19\u001b[0;31m \u001b[0mmy_dictionary\u001b[0m \u001b[0;34m=\u001b[0m \u001b[0mpickle\u001b[0m\u001b[0;34m.\u001b[0m\u001b[0mload\u001b[0m\u001b[0;34m(\u001b[0m\u001b[0mpickle_in\u001b[0m\u001b[0;34m)\u001b[0m\u001b[0;34m\u001b[0m\u001b[0;34m\u001b[0m\u001b[0m\n\u001b[0m\u001b[1;32m     20\u001b[0m \u001b[0;34m\u001b[0m\u001b[0m\n\u001b[1;32m     21\u001b[0m \u001b[0;31m# # MODIFY DICTIONARY BY, FOR EXAMPLE, ADDING NEW REGISTERS\u001b[0m\u001b[0;34m\u001b[0m\u001b[0;34m\u001b[0m\u001b[0;34m\u001b[0m\u001b[0m\n",
      "\u001b[0;31mTypeError\u001b[0m: file must have 'read' and 'readline' attributes"
     ]
    }
   ],
   "source": [
    "import tensorflow as tf\n",
    "import joblib\n",
    "import pickle\n",
    "import pandas as pd\n",
    "import pickle\n",
    "import os\n",
    "from google.cloud import storage\n",
    "# from tempfile import TemporaryFile\n",
    "\n",
    "nosales_model_path_input = \"gs://oyi-ds-vertex-pipeline-bucket-nonprod/latest_nosales_model_output_dev\"\n",
    "\n",
    "path = \"gs://oyi-ds-vertex-pipeline-bucket-nonprod/335163835346/oyi-nosales-model-pipeline-dev-20221201223121/train-eval-model_-856660020647952384/nosales_model_output\"\n",
    "\n",
    "storage_client = storage.Client()\n",
    "\n",
    "bucket = storage_client.bucket('oyi-ds-vertex-pipeline-bucket-nonprod')\n",
    "blob = bucket.blob('latest_nosales_model_output_dev')\n",
    "pickle_in = blob.download_as_string()\n",
    "my_dictionary = pickle.load(pickle_in)\n",
    "\n",
    "# # MODIFY DICTIONARY BY, FOR EXAMPLE, ADDING NEW REGISTERS\n",
    "\n",
    "# pickle_out = pickle.dumps(my_modified_dictionary)\n",
    "# blob.upload_from_string(pickle_out)\n",
    "\n",
    "\n",
    "# stack_pipeline = pickle.load(path)\n",
    "    \n"
   ]
  },
  {
   "cell_type": "code",
   "execution_count": null,
   "id": "ce9a222d-bb32-4ea0-bd79-1e71a84ed254",
   "metadata": {},
   "outputs": [],
   "source": [
    "nosales_thresh = utils.gen_thresholds(df = nosales_test_ext,  predictions = stack_pipeline.predict_proba(X=nosales_test_ext), classes = stack_pipeline.classes_)\n",
    "df_nosales_thresh = pd.DataFrame(nosales_thresh.items(), columns = ['club_nbr','nosales_club_thresh'])\n",
    "\n",
    "loaded_model = joblib.load(nosales_model_path_input) \n",
    "# loaded_model = joblib.load(tf.io.gfile.GFile(nosales_model_path_input, 'rb'))"
   ]
  },
  {
   "cell_type": "code",
   "execution_count": 48,
   "id": "17d73c8a-3ea4-4870-966a-b9f5b8f6138c",
   "metadata": {},
   "outputs": [
    {
     "ename": "AttributeError",
     "evalue": "module 'utils' has no attribute 'EnsembleClassifier'",
     "output_type": "error",
     "traceback": [
      "\u001b[0;31m---------------------------------------------------------------------------\u001b[0m",
      "\u001b[0;31mAttributeError\u001b[0m                            Traceback (most recent call last)",
      "\u001b[0;32m/tmp/ipykernel_28327/2509103289.py\u001b[0m in \u001b[0;36m<module>\u001b[0;34m\u001b[0m\n\u001b[1;32m     19\u001b[0m     \u001b[0mtemp_file\u001b[0m\u001b[0;34m.\u001b[0m\u001b[0mseek\u001b[0m\u001b[0;34m(\u001b[0m\u001b[0;36m0\u001b[0m\u001b[0;34m)\u001b[0m\u001b[0;34m\u001b[0m\u001b[0;34m\u001b[0m\u001b[0m\n\u001b[1;32m     20\u001b[0m     \u001b[0;31m#load into joblib\u001b[0m\u001b[0;34m\u001b[0m\u001b[0;34m\u001b[0m\u001b[0;34m\u001b[0m\u001b[0m\n\u001b[0;32m---> 21\u001b[0;31m     \u001b[0mmodel\u001b[0m\u001b[0;34m=\u001b[0m\u001b[0mjoblib\u001b[0m\u001b[0;34m.\u001b[0m\u001b[0mload\u001b[0m\u001b[0;34m(\u001b[0m\u001b[0mtemp_file\u001b[0m\u001b[0;34m)\u001b[0m\u001b[0;34m\u001b[0m\u001b[0;34m\u001b[0m\u001b[0m\n\u001b[0m",
      "\u001b[0;32m/opt/conda/lib/python3.7/site-packages/joblib/numpy_pickle.py\u001b[0m in \u001b[0;36mload\u001b[0;34m(filename, mmap_mode)\u001b[0m\n\u001b[1;32m    573\u001b[0m         \u001b[0mfilename\u001b[0m \u001b[0;34m=\u001b[0m \u001b[0mgetattr\u001b[0m\u001b[0;34m(\u001b[0m\u001b[0mfobj\u001b[0m\u001b[0;34m,\u001b[0m \u001b[0;34m'name'\u001b[0m\u001b[0;34m,\u001b[0m \u001b[0;34m''\u001b[0m\u001b[0;34m)\u001b[0m\u001b[0;34m\u001b[0m\u001b[0;34m\u001b[0m\u001b[0m\n\u001b[1;32m    574\u001b[0m         \u001b[0;32mwith\u001b[0m \u001b[0m_read_fileobject\u001b[0m\u001b[0;34m(\u001b[0m\u001b[0mfobj\u001b[0m\u001b[0;34m,\u001b[0m \u001b[0mfilename\u001b[0m\u001b[0;34m,\u001b[0m \u001b[0mmmap_mode\u001b[0m\u001b[0;34m)\u001b[0m \u001b[0;32mas\u001b[0m \u001b[0mfobj\u001b[0m\u001b[0;34m:\u001b[0m\u001b[0;34m\u001b[0m\u001b[0;34m\u001b[0m\u001b[0m\n\u001b[0;32m--> 575\u001b[0;31m             \u001b[0mobj\u001b[0m \u001b[0;34m=\u001b[0m \u001b[0m_unpickle\u001b[0m\u001b[0;34m(\u001b[0m\u001b[0mfobj\u001b[0m\u001b[0;34m)\u001b[0m\u001b[0;34m\u001b[0m\u001b[0;34m\u001b[0m\u001b[0m\n\u001b[0m\u001b[1;32m    576\u001b[0m     \u001b[0;32melse\u001b[0m\u001b[0;34m:\u001b[0m\u001b[0;34m\u001b[0m\u001b[0;34m\u001b[0m\u001b[0m\n\u001b[1;32m    577\u001b[0m         \u001b[0;32mwith\u001b[0m \u001b[0mopen\u001b[0m\u001b[0;34m(\u001b[0m\u001b[0mfilename\u001b[0m\u001b[0;34m,\u001b[0m \u001b[0;34m'rb'\u001b[0m\u001b[0;34m)\u001b[0m \u001b[0;32mas\u001b[0m \u001b[0mf\u001b[0m\u001b[0;34m:\u001b[0m\u001b[0;34m\u001b[0m\u001b[0;34m\u001b[0m\u001b[0m\n",
      "\u001b[0;32m/opt/conda/lib/python3.7/site-packages/joblib/numpy_pickle.py\u001b[0m in \u001b[0;36m_unpickle\u001b[0;34m(fobj, filename, mmap_mode)\u001b[0m\n\u001b[1;32m    502\u001b[0m     \u001b[0mobj\u001b[0m \u001b[0;34m=\u001b[0m \u001b[0;32mNone\u001b[0m\u001b[0;34m\u001b[0m\u001b[0;34m\u001b[0m\u001b[0m\n\u001b[1;32m    503\u001b[0m     \u001b[0;32mtry\u001b[0m\u001b[0;34m:\u001b[0m\u001b[0;34m\u001b[0m\u001b[0;34m\u001b[0m\u001b[0m\n\u001b[0;32m--> 504\u001b[0;31m         \u001b[0mobj\u001b[0m \u001b[0;34m=\u001b[0m \u001b[0munpickler\u001b[0m\u001b[0;34m.\u001b[0m\u001b[0mload\u001b[0m\u001b[0;34m(\u001b[0m\u001b[0;34m)\u001b[0m\u001b[0;34m\u001b[0m\u001b[0;34m\u001b[0m\u001b[0m\n\u001b[0m\u001b[1;32m    505\u001b[0m         \u001b[0;32mif\u001b[0m \u001b[0munpickler\u001b[0m\u001b[0;34m.\u001b[0m\u001b[0mcompat_mode\u001b[0m\u001b[0;34m:\u001b[0m\u001b[0;34m\u001b[0m\u001b[0;34m\u001b[0m\u001b[0m\n\u001b[1;32m    506\u001b[0m             warnings.warn(\"The file '%s' has been generated with a \"\n",
      "\u001b[0;32m/opt/conda/lib/python3.7/pickle.py\u001b[0m in \u001b[0;36mload\u001b[0;34m(self)\u001b[0m\n\u001b[1;32m   1086\u001b[0m                     \u001b[0;32mraise\u001b[0m \u001b[0mEOFError\u001b[0m\u001b[0;34m\u001b[0m\u001b[0;34m\u001b[0m\u001b[0m\n\u001b[1;32m   1087\u001b[0m                 \u001b[0;32massert\u001b[0m \u001b[0misinstance\u001b[0m\u001b[0;34m(\u001b[0m\u001b[0mkey\u001b[0m\u001b[0;34m,\u001b[0m \u001b[0mbytes_types\u001b[0m\u001b[0;34m)\u001b[0m\u001b[0;34m\u001b[0m\u001b[0;34m\u001b[0m\u001b[0m\n\u001b[0;32m-> 1088\u001b[0;31m                 \u001b[0mdispatch\u001b[0m\u001b[0;34m[\u001b[0m\u001b[0mkey\u001b[0m\u001b[0;34m[\u001b[0m\u001b[0;36m0\u001b[0m\u001b[0;34m]\u001b[0m\u001b[0;34m]\u001b[0m\u001b[0;34m(\u001b[0m\u001b[0mself\u001b[0m\u001b[0;34m)\u001b[0m\u001b[0;34m\u001b[0m\u001b[0;34m\u001b[0m\u001b[0m\n\u001b[0m\u001b[1;32m   1089\u001b[0m         \u001b[0;32mexcept\u001b[0m \u001b[0m_Stop\u001b[0m \u001b[0;32mas\u001b[0m \u001b[0mstopinst\u001b[0m\u001b[0;34m:\u001b[0m\u001b[0;34m\u001b[0m\u001b[0;34m\u001b[0m\u001b[0m\n\u001b[1;32m   1090\u001b[0m             \u001b[0;32mreturn\u001b[0m \u001b[0mstopinst\u001b[0m\u001b[0;34m.\u001b[0m\u001b[0mvalue\u001b[0m\u001b[0;34m\u001b[0m\u001b[0;34m\u001b[0m\u001b[0m\n",
      "\u001b[0;32m/opt/conda/lib/python3.7/pickle.py\u001b[0m in \u001b[0;36mload_global\u001b[0;34m(self)\u001b[0m\n\u001b[1;32m   1374\u001b[0m         \u001b[0mmodule\u001b[0m \u001b[0;34m=\u001b[0m \u001b[0mself\u001b[0m\u001b[0;34m.\u001b[0m\u001b[0mreadline\u001b[0m\u001b[0;34m(\u001b[0m\u001b[0;34m)\u001b[0m\u001b[0;34m[\u001b[0m\u001b[0;34m:\u001b[0m\u001b[0;34m-\u001b[0m\u001b[0;36m1\u001b[0m\u001b[0;34m]\u001b[0m\u001b[0;34m.\u001b[0m\u001b[0mdecode\u001b[0m\u001b[0;34m(\u001b[0m\u001b[0;34m\"utf-8\"\u001b[0m\u001b[0;34m)\u001b[0m\u001b[0;34m\u001b[0m\u001b[0;34m\u001b[0m\u001b[0m\n\u001b[1;32m   1375\u001b[0m         \u001b[0mname\u001b[0m \u001b[0;34m=\u001b[0m \u001b[0mself\u001b[0m\u001b[0;34m.\u001b[0m\u001b[0mreadline\u001b[0m\u001b[0;34m(\u001b[0m\u001b[0;34m)\u001b[0m\u001b[0;34m[\u001b[0m\u001b[0;34m:\u001b[0m\u001b[0;34m-\u001b[0m\u001b[0;36m1\u001b[0m\u001b[0;34m]\u001b[0m\u001b[0;34m.\u001b[0m\u001b[0mdecode\u001b[0m\u001b[0;34m(\u001b[0m\u001b[0;34m\"utf-8\"\u001b[0m\u001b[0;34m)\u001b[0m\u001b[0;34m\u001b[0m\u001b[0;34m\u001b[0m\u001b[0m\n\u001b[0;32m-> 1376\u001b[0;31m         \u001b[0mklass\u001b[0m \u001b[0;34m=\u001b[0m \u001b[0mself\u001b[0m\u001b[0;34m.\u001b[0m\u001b[0mfind_class\u001b[0m\u001b[0;34m(\u001b[0m\u001b[0mmodule\u001b[0m\u001b[0;34m,\u001b[0m \u001b[0mname\u001b[0m\u001b[0;34m)\u001b[0m\u001b[0;34m\u001b[0m\u001b[0;34m\u001b[0m\u001b[0m\n\u001b[0m\u001b[1;32m   1377\u001b[0m         \u001b[0mself\u001b[0m\u001b[0;34m.\u001b[0m\u001b[0mappend\u001b[0m\u001b[0;34m(\u001b[0m\u001b[0mklass\u001b[0m\u001b[0;34m)\u001b[0m\u001b[0;34m\u001b[0m\u001b[0;34m\u001b[0m\u001b[0m\n\u001b[1;32m   1378\u001b[0m     \u001b[0mdispatch\u001b[0m\u001b[0;34m[\u001b[0m\u001b[0mGLOBAL\u001b[0m\u001b[0;34m[\u001b[0m\u001b[0;36m0\u001b[0m\u001b[0;34m]\u001b[0m\u001b[0;34m]\u001b[0m \u001b[0;34m=\u001b[0m \u001b[0mload_global\u001b[0m\u001b[0;34m\u001b[0m\u001b[0;34m\u001b[0m\u001b[0m\n",
      "\u001b[0;32m/opt/conda/lib/python3.7/pickle.py\u001b[0m in \u001b[0;36mfind_class\u001b[0;34m(self, module, name)\u001b[0m\n\u001b[1;32m   1428\u001b[0m             \u001b[0;32mreturn\u001b[0m \u001b[0m_getattribute\u001b[0m\u001b[0;34m(\u001b[0m\u001b[0msys\u001b[0m\u001b[0;34m.\u001b[0m\u001b[0mmodules\u001b[0m\u001b[0;34m[\u001b[0m\u001b[0mmodule\u001b[0m\u001b[0;34m]\u001b[0m\u001b[0;34m,\u001b[0m \u001b[0mname\u001b[0m\u001b[0;34m)\u001b[0m\u001b[0;34m[\u001b[0m\u001b[0;36m0\u001b[0m\u001b[0;34m]\u001b[0m\u001b[0;34m\u001b[0m\u001b[0;34m\u001b[0m\u001b[0m\n\u001b[1;32m   1429\u001b[0m         \u001b[0;32melse\u001b[0m\u001b[0;34m:\u001b[0m\u001b[0;34m\u001b[0m\u001b[0;34m\u001b[0m\u001b[0m\n\u001b[0;32m-> 1430\u001b[0;31m             \u001b[0;32mreturn\u001b[0m \u001b[0mgetattr\u001b[0m\u001b[0;34m(\u001b[0m\u001b[0msys\u001b[0m\u001b[0;34m.\u001b[0m\u001b[0mmodules\u001b[0m\u001b[0;34m[\u001b[0m\u001b[0mmodule\u001b[0m\u001b[0;34m]\u001b[0m\u001b[0;34m,\u001b[0m \u001b[0mname\u001b[0m\u001b[0;34m)\u001b[0m\u001b[0;34m\u001b[0m\u001b[0;34m\u001b[0m\u001b[0m\n\u001b[0m\u001b[1;32m   1431\u001b[0m \u001b[0;34m\u001b[0m\u001b[0m\n\u001b[1;32m   1432\u001b[0m     \u001b[0;32mdef\u001b[0m \u001b[0mload_reduce\u001b[0m\u001b[0;34m(\u001b[0m\u001b[0mself\u001b[0m\u001b[0;34m)\u001b[0m\u001b[0;34m:\u001b[0m\u001b[0;34m\u001b[0m\u001b[0;34m\u001b[0m\u001b[0m\n",
      "\u001b[0;31mAttributeError\u001b[0m: module 'utils' has no attribute 'EnsembleClassifier'"
     ]
    }
   ],
   "source": [
    "\n",
    "from google.cloud import storage\n",
    "# from sklearn.externals import joblib\n",
    "import joblib\n",
    "\n",
    "from tempfile import TemporaryFile\n",
    "\n",
    "storage_client = storage.Client()\n",
    "bucket_name=\"oyi-ds-vertex-pipeline-bucket-nonprod\"\n",
    "model_bucket=\"latest_nosales_model_output_dev\"\n",
    "\n",
    "bucket = storage_client.get_bucket(bucket_name)\n",
    "#select bucket file\n",
    "blob = bucket.blob(model_bucket)\n",
    "with TemporaryFile() as temp_file:\n",
    "    #download blob into temp file\n",
    "    blob.download_to_file(temp_file)\n",
    "    temp_file.seek(0)\n",
    "    #load into joblib\n",
    "    pickle.load(open(filename, 'rb'))\n",
    "    model=joblib.load(temp_file)\n"
   ]
  },
  {
   "cell_type": "code",
   "execution_count": null,
   "id": "bd022aab-bb2a-4b48-a16b-3da8ecff77d5",
   "metadata": {},
   "outputs": [],
   "source": [
    "nosales_model_path_input = \"gs://oyi-ds-vertex-pipeline-bucket-nonprod/latest_nosales_model_output_dev\"\n",
    "\n",
    "\n",
    "gcs_model_path = args.GCS_MODEL_PATH\n",
    "model_name = args.MODEL_REGISTRY_NAME\n",
    "experiment_name = args.MLFLOW_EXP_NAME\n",
    "\n",
    "\n",
    "mlflow.set_experiment(experiment_name)\n",
    "\n",
    "with mlflow.start_run():\n",
    "    blob = storage.blob.Blob.from_string(gcs_model_path, client=storage.Client())\n",
    "    with TemporaryFile() as temp_file:\n",
    "        blob.download_to_file(temp_file)\n",
    "        temp_file.seek(0)\n",
    "        model=pickle.load(temp_file)\n",
    "    mlflow.pyfunc.log_model(python_model=utils.EnsembleClassifierWrapper(model=model,), \n",
    "                            artifact_path=\"model\",\n",
    "                            registered_model_name=model_name)\n"
   ]
  },
  {
   "cell_type": "code",
   "execution_count": 74,
   "id": "1ae0f635-b5d0-4d5a-9da8-9f94769e503e",
   "metadata": {},
   "outputs": [
    {
     "name": "stdout",
     "output_type": "stream",
     "text": [
      "Collecting file-io\n",
      "  Downloading file_io-0.3.9-py3-none-any.whl (62 kB)\n",
      "\u001b[2K     \u001b[90m━━━━━━━━━━━━━━━━━━━━━━━━━━━━━━━━━━━━━━━━\u001b[0m \u001b[32m62.7/62.7 kB\u001b[0m \u001b[31m1.0 MB/s\u001b[0m eta \u001b[36m0:00:00\u001b[0ma \u001b[36m0:00:01\u001b[0m\n",
      "\u001b[?25hCollecting aiofile\n",
      "  Downloading aiofile-3.8.1.tar.gz (18 kB)\n",
      "  Preparing metadata (setup.py) ... \u001b[?25ldone\n",
      "\u001b[?25hCollecting loguru\n",
      "  Downloading loguru-0.6.0-py3-none-any.whl (58 kB)\n",
      "\u001b[2K     \u001b[90m━━━━━━━━━━━━━━━━━━━━━━━━━━━━━━━━━━━━━━━━\u001b[0m \u001b[32m58.3/58.3 kB\u001b[0m \u001b[31m3.2 MB/s\u001b[0m eta \u001b[36m0:00:00\u001b[0m\n",
      "\u001b[?25hCollecting lazycls\n",
      "  Downloading lazycls-0.1.15-py3-none-any.whl (293 kB)\n",
      "\u001b[2K     \u001b[90m━━━━━━━━━━━━━━━━━━━━━━━━━━━━━━━━━━━━━━━\u001b[0m \u001b[32m293.1/293.1 kB\u001b[0m \u001b[31m4.0 MB/s\u001b[0m eta \u001b[36m0:00:00\u001b[0m00:01\u001b[0m00:01\u001b[0m\n",
      "\u001b[?25hRequirement already satisfied: anyio in /opt/conda/lib/python3.7/site-packages (from file-io) (3.6.1)\n",
      "Requirement already satisfied: fsspec in /opt/conda/lib/python3.7/site-packages (from file-io) (2022.7.1)\n",
      "Collecting caio~=0.9.0\n",
      "  Downloading caio-0.9.11-cp37-cp37m-manylinux_2_12_x86_64.manylinux2010_x86_64.manylinux_2_17_x86_64.manylinux2014_x86_64.whl (77 kB)\n",
      "\u001b[2K     \u001b[90m━━━━━━━━━━━━━━━━━━━━━━━━━━━━━━━━━━━━━━━━\u001b[0m \u001b[32m77.7/77.7 kB\u001b[0m \u001b[31m12.8 MB/s\u001b[0m eta \u001b[36m0:00:00\u001b[0m\n",
      "\u001b[?25hRequirement already satisfied: sniffio>=1.1 in /opt/conda/lib/python3.7/site-packages (from anyio->file-io) (1.2.0)\n",
      "Requirement already satisfied: idna>=2.8 in /opt/conda/lib/python3.7/site-packages (from anyio->file-io) (3.3)\n",
      "Requirement already satisfied: typing-extensions in /opt/conda/lib/python3.7/site-packages (from anyio->file-io) (3.10.0.2)\n",
      "Requirement already satisfied: pyyaml in /opt/conda/lib/python3.7/site-packages (from lazycls->file-io) (5.4.1)\n",
      "Requirement already satisfied: typer in /opt/conda/lib/python3.7/site-packages (from lazycls->file-io) (0.6.1)\n",
      "Collecting dill\n",
      "  Downloading dill-0.3.6-py3-none-any.whl (110 kB)\n",
      "\u001b[2K     \u001b[90m━━━━━━━━━━━━━━━━━━━━━━━━━━━━━━━━━━━━━━\u001b[0m \u001b[32m110.5/110.5 kB\u001b[0m \u001b[31m14.1 MB/s\u001b[0m eta \u001b[36m0:00:00\u001b[0m\n",
      "\u001b[?25hCollecting universal-pathlib\n",
      "  Downloading universal_pathlib-0.0.21-py3-none-any.whl (25 kB)\n",
      "Collecting pylogz\n",
      "  Downloading pylogz-0.0.4-py3-none-any.whl (5.0 kB)\n",
      "Requirement already satisfied: PyJWT in /opt/conda/lib/python3.7/site-packages (from lazycls->file-io) (2.4.0)\n",
      "Requirement already satisfied: pydantic[dotenv] in /opt/conda/lib/python3.7/site-packages (from lazycls->file-io) (1.9.1)\n",
      "Collecting pysimdjson\n",
      "  Downloading pysimdjson-5.0.2-cp37-cp37m-manylinux_2_17_x86_64.manylinux2014_x86_64.whl (1.8 MB)\n",
      "\u001b[2K     \u001b[90m━━━━━━━━━━━━━━━━━━━━━━━━━━━━━━━━━━━━━━━━\u001b[0m \u001b[32m1.8/1.8 MB\u001b[0m \u001b[31m16.4 MB/s\u001b[0m eta \u001b[36m0:00:00\u001b[0m00:01\u001b[0m00:01\u001b[0m\n",
      "\u001b[?25hCollecting orjson\n",
      "  Downloading orjson-3.8.3-cp37-cp37m-manylinux_2_28_x86_64.whl (144 kB)\n",
      "\u001b[2K     \u001b[90m━━━━━━━━━━━━━━━━━━━━━━━━━━━━━━━━━━━━━━\u001b[0m \u001b[32m144.8/144.8 kB\u001b[0m \u001b[31m23.8 MB/s\u001b[0m eta \u001b[36m0:00:00\u001b[0m\n",
      "\u001b[?25hCollecting python-dotenv>=0.10.4\n",
      "  Downloading python_dotenv-0.21.0-py3-none-any.whl (18 kB)\n",
      "Requirement already satisfied: click<9.0.0,>=7.1.1 in /opt/conda/lib/python3.7/site-packages (from typer->lazycls->file-io) (8.1.3)\n",
      "Requirement already satisfied: importlib-metadata in /opt/conda/lib/python3.7/site-packages (from click<9.0.0,>=7.1.1->typer->lazycls->file-io) (4.11.4)\n",
      "Requirement already satisfied: zipp>=0.5 in /opt/conda/lib/python3.7/site-packages (from importlib-metadata->click<9.0.0,>=7.1.1->typer->lazycls->file-io) (3.8.1)\n",
      "Building wheels for collected packages: aiofile\n",
      "  Building wheel for aiofile (setup.py) ... \u001b[?25ldone\n",
      "\u001b[?25h  Created wheel for aiofile: filename=aiofile-3.8.1-py3-none-any.whl size=19434 sha256=0c568dffdea6027d314a25ba69d009709100f2173a86a571f80b929a46e9e952\n",
      "  Stored in directory: /home/jupyter/.cache/pip/wheels/ff/2e/eb/8a071ffd66fead648f4da7c14d7d6e231fc22e214cce2250c5\n",
      "Successfully built aiofile\n",
      "Installing collected packages: pylogz, universal-pathlib, python-dotenv, pysimdjson, orjson, loguru, dill, caio, aiofile, lazycls, file-io\n",
      "Successfully installed aiofile-3.8.1 caio-0.9.11 dill-0.3.6 file-io-0.3.9 lazycls-0.1.15 loguru-0.6.0 orjson-3.8.3 pylogz-0.0.4 pysimdjson-5.0.2 python-dotenv-0.21.0 universal-pathlib-0.0.21\n"
     ]
    }
   ],
   "source": [
    "!pip install file-io\n"
   ]
  },
  {
   "cell_type": "code",
   "execution_count": 77,
   "id": "097e7318-938d-43f0-b9cb-fb541fe579c3",
   "metadata": {},
   "outputs": [],
   "source": [
    "# !gsutil cat -h gs://oyi-ds-vertex-pipeline-bucket-nonprod/latest_nosales_model_output_dev"
   ]
  },
  {
   "cell_type": "code",
   "execution_count": 78,
   "id": "c74921ee-d751-4c8f-b175-ed716123dd11",
   "metadata": {},
   "outputs": [
    {
     "name": "stdout",
     "output_type": "stream",
     "text": [
      "Run the loading python file.\n"
     ]
    },
    {
     "ename": "FileNotFoundError",
     "evalue": "[Errno 2] No such file or directory: 'gs://oyi-ds-vertex-pipeline-bucket-nonprod/latest_nosales_model_output_dev'",
     "output_type": "error",
     "traceback": [
      "\u001b[0;31m---------------------------------------------------------------------------\u001b[0m",
      "\u001b[0;31mFileNotFoundError\u001b[0m                         Traceback (most recent call last)",
      "\u001b[0;32m/tmp/ipykernel_28327/4122683202.py\u001b[0m in \u001b[0;36m<module>\u001b[0;34m\u001b[0m\n\u001b[1;32m      7\u001b[0m \u001b[0mprint\u001b[0m\u001b[0;34m(\u001b[0m\u001b[0;34m\"Run the loading python file.\"\u001b[0m\u001b[0;34m)\u001b[0m\u001b[0;34m\u001b[0m\u001b[0;34m\u001b[0m\u001b[0m\n\u001b[1;32m      8\u001b[0m \u001b[0;31m# path = \"/Users/j0c0p72/Projects/Sams/oyi/latest_nosales_model_output_dev\"\u001b[0m\u001b[0;34m\u001b[0m\u001b[0;34m\u001b[0m\u001b[0;34m\u001b[0m\u001b[0m\n\u001b[0;32m----> 9\u001b[0;31m \u001b[0;32mwith\u001b[0m \u001b[0mopen\u001b[0m\u001b[0;34m(\u001b[0m\u001b[0mnosales_model_path_input\u001b[0m\u001b[0;34m,\u001b[0m \u001b[0;34m\"rb\"\u001b[0m\u001b[0;34m)\u001b[0m \u001b[0;32mas\u001b[0m \u001b[0mhandler\u001b[0m\u001b[0;34m:\u001b[0m\u001b[0;34m\u001b[0m\u001b[0;34m\u001b[0m\u001b[0m\n\u001b[0m\u001b[1;32m     10\u001b[0m     \u001b[0mstack_pipeline\u001b[0m \u001b[0;34m=\u001b[0m \u001b[0mpickle\u001b[0m\u001b[0;34m.\u001b[0m\u001b[0mload\u001b[0m\u001b[0;34m(\u001b[0m\u001b[0mhandler\u001b[0m\u001b[0;34m)\u001b[0m\u001b[0;34m\u001b[0m\u001b[0;34m\u001b[0m\u001b[0m\n\u001b[1;32m     11\u001b[0m     \u001b[0mprint\u001b[0m\u001b[0;34m(\u001b[0m\u001b[0;34m\"loaded model\"\u001b[0m\u001b[0;34m)\u001b[0m\u001b[0;34m\u001b[0m\u001b[0;34m\u001b[0m\u001b[0m\n",
      "\u001b[0;31mFileNotFoundError\u001b[0m: [Errno 2] No such file or directory: 'gs://oyi-ds-vertex-pipeline-bucket-nonprod/latest_nosales_model_output_dev'"
     ]
    }
   ],
   "source": [
    "# from fileio import File\n",
    "\n",
    "nosales_model_path_input = \"gs://oyi-ds-vertex-pipeline-bucket-nonprod/latest_nosales_model_output_dev\"\n",
    "# pathlike = File(nosales_model_path_input)\n",
    "\n",
    "import pickle\n",
    "print(\"Run the loading python file.\")\n",
    "# path = \"/Users/j0c0p72/Projects/Sams/oyi/latest_nosales_model_output_dev\"\n",
    "with open(nosales_model_path_input, \"rb\") as handler:\n",
    "    stack_pipeline = pickle.load(handler)\n",
    "    print(\"loaded model\")\n",
    "    \n",
    "# with file_io.FileIO(report_name, mode='r') as input_f:\n",
    "#     with file_io.FileIO(job_dir + '/' + report_name, mode='w+') as output_f:\n",
    "#         output_f.write(input_f.read())\n",
    "        \n",
    "# # with open(nosales_model_path_input.path, \"rb\") as handler:\n",
    "# #     stack_pipeline = pickle.load(handler)\n",
    "    \n",
    "# with open(nosales_model_path_input, \"r\") as model:\n",
    "#     stack_pipeline = pickle.load(model)\n"
   ]
  },
  {
   "cell_type": "code",
   "execution_count": 79,
   "id": "529a61d9-9efb-42ba-a66b-20618b37d80c",
   "metadata": {},
   "outputs": [
    {
     "name": "stderr",
     "output_type": "stream",
     "text": [
      "IOPub data rate exceeded.\n",
      "The Jupyter server will temporarily stop sending output\n",
      "to the client in order to avoid crashing it.\n",
      "To change this limit, set the config variable\n",
      "`--ServerApp.iopub_data_rate_limit`.\n",
      "\n",
      "Current values:\n",
      "ServerApp.iopub_data_rate_limit=1000000.0 (bytes/sec)\n",
      "ServerApp.rate_limit_window=3.0 (secs)\n",
      "\n"
     ]
    }
   ],
   "source": [
    "from google.cloud import storage\n",
    "\n",
    "# Instantiates a client\n",
    "c = storage.Client()\n",
    "\n",
    "bucket_name = 'oyi-ds-vertex-pipeline-bucket-nonprod'\n",
    "\n",
    "bucket = c.get_bucket(bucket_name)\n",
    "\n",
    "blob = bucket.get_blob('latest_nosales_model_output_dev')\n",
    "\n",
    "downloaded_blob = blob.download_as_string()\n",
    "\n",
    "print(downloaded_blob)"
   ]
  },
  {
   "cell_type": "code",
   "execution_count": 84,
   "id": "6aeae9f9-372f-41d5-bd68-fcf803f9b8c2",
   "metadata": {},
   "outputs": [],
   "source": [
    "import utils\n"
   ]
  },
  {
   "cell_type": "code",
   "execution_count": 86,
   "id": "ebf8ed24-f857-4bc3-9f76-1840fc432dff",
   "metadata": {},
   "outputs": [
    {
     "ename": "UnicodeDecodeError",
     "evalue": "'utf-8' codec can't decode byte 0x80 in position 0: invalid start byte",
     "output_type": "error",
     "traceback": [
      "\u001b[0;31m---------------------------------------------------------------------------\u001b[0m",
      "\u001b[0;31mUnicodeDecodeError\u001b[0m                        Traceback (most recent call last)",
      "\u001b[0;32m/tmp/ipykernel_28327/1828388257.py\u001b[0m in \u001b[0;36m<module>\u001b[0;34m\u001b[0m\n\u001b[1;32m     25\u001b[0m \u001b[0mbucket_name\u001b[0m \u001b[0;34m=\u001b[0m \u001b[0;34m\"oyi-ds-vertex-pipeline-bucket-nonprod\"\u001b[0m\u001b[0;34m\u001b[0m\u001b[0;34m\u001b[0m\u001b[0m\n\u001b[1;32m     26\u001b[0m \u001b[0mblob_name\u001b[0m \u001b[0;34m=\u001b[0m \u001b[0;34m\"latest_nosales_model_output_dev\"\u001b[0m\u001b[0;34m\u001b[0m\u001b[0;34m\u001b[0m\u001b[0m\n\u001b[0;32m---> 27\u001b[0;31m \u001b[0mread_model\u001b[0m\u001b[0;34m(\u001b[0m\u001b[0mbucket_name\u001b[0m\u001b[0;34m,\u001b[0m \u001b[0mblob_name\u001b[0m\u001b[0;34m)\u001b[0m\u001b[0;34m\u001b[0m\u001b[0;34m\u001b[0m\u001b[0m\n\u001b[0m",
      "\u001b[0;32m/tmp/ipykernel_28327/1828388257.py\u001b[0m in \u001b[0;36mread_model\u001b[0;34m(bucket_name, blob_name)\u001b[0m\n\u001b[1;32m     18\u001b[0m     \u001b[0;31m#     f.write(\"Hello world\")\u001b[0m\u001b[0;34m\u001b[0m\u001b[0;34m\u001b[0m\u001b[0;34m\u001b[0m\u001b[0m\n\u001b[1;32m     19\u001b[0m     \u001b[0;32mwith\u001b[0m \u001b[0mblob\u001b[0m\u001b[0;34m.\u001b[0m\u001b[0mopen\u001b[0m\u001b[0;34m(\u001b[0m\u001b[0;34m\"r\"\u001b[0m\u001b[0;34m)\u001b[0m \u001b[0;32mas\u001b[0m \u001b[0mhandler\u001b[0m\u001b[0;34m:\u001b[0m\u001b[0;34m\u001b[0m\u001b[0;34m\u001b[0m\u001b[0m\n\u001b[0;32m---> 20\u001b[0;31m         \u001b[0mstack_pipeline\u001b[0m \u001b[0;34m=\u001b[0m \u001b[0mpickle\u001b[0m\u001b[0;34m.\u001b[0m\u001b[0mload\u001b[0m\u001b[0;34m(\u001b[0m\u001b[0mhandler\u001b[0m\u001b[0;34m)\u001b[0m\u001b[0;34m\u001b[0m\u001b[0;34m\u001b[0m\u001b[0m\n\u001b[0m\u001b[1;32m     21\u001b[0m         \u001b[0mprint\u001b[0m\u001b[0;34m(\u001b[0m\u001b[0;34m\"loaded model\"\u001b[0m\u001b[0;34m)\u001b[0m\u001b[0;34m\u001b[0m\u001b[0;34m\u001b[0m\u001b[0m\n\u001b[1;32m     22\u001b[0m \u001b[0;34m\u001b[0m\u001b[0m\n",
      "\u001b[0;32m/opt/conda/lib/python3.7/codecs.py\u001b[0m in \u001b[0;36mdecode\u001b[0;34m(self, input, final)\u001b[0m\n\u001b[1;32m    320\u001b[0m         \u001b[0;31m# decode input (taking the buffer into account)\u001b[0m\u001b[0;34m\u001b[0m\u001b[0;34m\u001b[0m\u001b[0;34m\u001b[0m\u001b[0m\n\u001b[1;32m    321\u001b[0m         \u001b[0mdata\u001b[0m \u001b[0;34m=\u001b[0m \u001b[0mself\u001b[0m\u001b[0;34m.\u001b[0m\u001b[0mbuffer\u001b[0m \u001b[0;34m+\u001b[0m \u001b[0minput\u001b[0m\u001b[0;34m\u001b[0m\u001b[0;34m\u001b[0m\u001b[0m\n\u001b[0;32m--> 322\u001b[0;31m         \u001b[0;34m(\u001b[0m\u001b[0mresult\u001b[0m\u001b[0;34m,\u001b[0m \u001b[0mconsumed\u001b[0m\u001b[0;34m)\u001b[0m \u001b[0;34m=\u001b[0m \u001b[0mself\u001b[0m\u001b[0;34m.\u001b[0m\u001b[0m_buffer_decode\u001b[0m\u001b[0;34m(\u001b[0m\u001b[0mdata\u001b[0m\u001b[0;34m,\u001b[0m \u001b[0mself\u001b[0m\u001b[0;34m.\u001b[0m\u001b[0merrors\u001b[0m\u001b[0;34m,\u001b[0m \u001b[0mfinal\u001b[0m\u001b[0;34m)\u001b[0m\u001b[0;34m\u001b[0m\u001b[0;34m\u001b[0m\u001b[0m\n\u001b[0m\u001b[1;32m    323\u001b[0m         \u001b[0;31m# keep undecoded input until the next call\u001b[0m\u001b[0;34m\u001b[0m\u001b[0;34m\u001b[0m\u001b[0;34m\u001b[0m\u001b[0m\n\u001b[1;32m    324\u001b[0m         \u001b[0mself\u001b[0m\u001b[0;34m.\u001b[0m\u001b[0mbuffer\u001b[0m \u001b[0;34m=\u001b[0m \u001b[0mdata\u001b[0m\u001b[0;34m[\u001b[0m\u001b[0mconsumed\u001b[0m\u001b[0;34m:\u001b[0m\u001b[0;34m]\u001b[0m\u001b[0;34m\u001b[0m\u001b[0;34m\u001b[0m\u001b[0m\n",
      "\u001b[0;31mUnicodeDecodeError\u001b[0m: 'utf-8' codec can't decode byte 0x80 in position 0: invalid start byte"
     ]
    }
   ],
   "source": [
    "def read_model(bucket_name, blob_name):\n",
    "    \"\"\"Write and read a blob from GCS using file-like IO\"\"\"\n",
    "    # The ID of your GCS bucket\n",
    "    # bucket_name = \"your-bucket-name\"\n",
    "\n",
    "    # The ID of your new GCS object\n",
    "    # blob_name = \"storage-object-name\"\n",
    "    from google.cloud import storage\n",
    "    import utils\n",
    "    \n",
    "    storage_client = storage.Client()\n",
    "    bucket = storage_client.bucket(bucket_name)\n",
    "    blob = bucket.blob(blob_name)\n",
    "\n",
    "    # Mode can be specified as wb/rb for bytes mode.\n",
    "    # See: https://docs.python.org/3/library/io.html\n",
    "    # with blob.open(\"w\") as f:\n",
    "    #     f.write(\"Hello world\")\n",
    "    with blob.open(\"rb\") as handler:\n",
    "        stack_pipeline = pickle.load(handler)\n",
    "        print(\"loaded model\")\n",
    "    \n",
    "#     with blob.open(\"r\") as f:\n",
    "#         f.read()\n",
    "bucket_name = \"oyi-ds-vertex-pipeline-bucket-nonprod\"\n",
    "blob_name = \"latest_nosales_model_output_dev\"\n",
    "read_model(bucket_name, blob_name)"
   ]
  },
  {
   "cell_type": "code",
   "execution_count": null,
   "id": "b1507f3a-a590-47c2-afb3-ab6556cee51a",
   "metadata": {},
   "outputs": [],
   "source": [
    "regularized_club_thresh_chain_path = \"gs://oyi-ds-club-score-cutoff-pipeline-bucket-nonprod/335163835346/oyi-ds-club-score-cutoff-pipeline-bucket-dev-20221013005650/combine-results_-6831875422569889792/regularized_club_thresh_chain_output\"\n",
    "regularized_club_thresh_chain = pd.read_csv(regularized_club_thresh_chain_path)\n"
   ]
  },
  {
   "cell_type": "code",
   "execution_count": null,
   "id": "a9639d63-17bd-4839-88c9-8aae10c7742e",
   "metadata": {},
   "outputs": [],
   "source": [
    "regularized_club_thresh_chain.head(3)"
   ]
  },
  {
   "cell_type": "code",
   "execution_count": 5,
   "id": "d4819c23-5ae8-4206-a788-e70f009c3e8e",
   "metadata": {},
   "outputs": [
    {
     "data": {
      "text/html": [
       "<div>\n",
       "<style scoped>\n",
       "    .dataframe tbody tr th:only-of-type {\n",
       "        vertical-align: middle;\n",
       "    }\n",
       "\n",
       "    .dataframe tbody tr th {\n",
       "        vertical-align: top;\n",
       "    }\n",
       "\n",
       "    .dataframe thead th {\n",
       "        text-align: right;\n",
       "    }\n",
       "</style>\n",
       "<table border=\"1\" class=\"dataframe\">\n",
       "  <thead>\n",
       "    <tr style=\"text-align: right;\">\n",
       "      <th></th>\n",
       "      <th>club_nbr</th>\n",
       "      <th>item_nbr</th>\n",
       "      <th>old_nbr</th>\n",
       "      <th>days_no_sale</th>\n",
       "      <th>cat</th>\n",
       "      <th>subcat</th>\n",
       "      <th>state</th>\n",
       "      <th>unit_retail</th>\n",
       "      <th>oh_qty</th>\n",
       "      <th>avg_sales_interval</th>\n",
       "      <th>...</th>\n",
       "      <th>mkt_cat_no_action_taken_tpr</th>\n",
       "      <th>mkt_cat_add_to_picklist_tpr</th>\n",
       "      <th>mkt_cat_update_ohq_tpr</th>\n",
       "      <th>mkt_cat_update_loc_tpr</th>\n",
       "      <th>mkt_cat_new_price_sign_tpr</th>\n",
       "      <th>reg_cat_no_action_taken_tpr</th>\n",
       "      <th>reg_cat_add_to_picklist_tpr</th>\n",
       "      <th>reg_cat_update_ohq_tpr</th>\n",
       "      <th>reg_cat_update_loc_tpr</th>\n",
       "      <th>reg_cat_new_price_sign_tpr</th>\n",
       "    </tr>\n",
       "  </thead>\n",
       "  <tbody>\n",
       "    <tr>\n",
       "      <th>0</th>\n",
       "      <td>4041</td>\n",
       "      <td>54136277</td>\n",
       "      <td>980130476</td>\n",
       "      <td>2.0</td>\n",
       "      <td>47</td>\n",
       "      <td>25</td>\n",
       "      <td>NJ</td>\n",
       "      <td>24.98</td>\n",
       "      <td>4</td>\n",
       "      <td>10.042373</td>\n",
       "      <td>...</td>\n",
       "      <td>0.0</td>\n",
       "      <td>0.0</td>\n",
       "      <td>0.0</td>\n",
       "      <td>0.0</td>\n",
       "      <td>0.0</td>\n",
       "      <td>0.0</td>\n",
       "      <td>0.0</td>\n",
       "      <td>0.0</td>\n",
       "      <td>0.0</td>\n",
       "      <td>0.0</td>\n",
       "    </tr>\n",
       "    <tr>\n",
       "      <th>1</th>\n",
       "      <td>4109</td>\n",
       "      <td>20815152</td>\n",
       "      <td>817534</td>\n",
       "      <td>1.0</td>\n",
       "      <td>41</td>\n",
       "      <td>66</td>\n",
       "      <td>LA</td>\n",
       "      <td>9.37</td>\n",
       "      <td>1</td>\n",
       "      <td>1.822526</td>\n",
       "      <td>...</td>\n",
       "      <td>0.0</td>\n",
       "      <td>0.0</td>\n",
       "      <td>0.0</td>\n",
       "      <td>0.0</td>\n",
       "      <td>0.0</td>\n",
       "      <td>0.0</td>\n",
       "      <td>0.0</td>\n",
       "      <td>0.0</td>\n",
       "      <td>0.0</td>\n",
       "      <td>0.0</td>\n",
       "    </tr>\n",
       "    <tr>\n",
       "      <th>2</th>\n",
       "      <td>4109</td>\n",
       "      <td>21845167</td>\n",
       "      <td>415604</td>\n",
       "      <td>7.0</td>\n",
       "      <td>19</td>\n",
       "      <td>49</td>\n",
       "      <td>LA</td>\n",
       "      <td>8.98</td>\n",
       "      <td>3</td>\n",
       "      <td>3.078261</td>\n",
       "      <td>...</td>\n",
       "      <td>0.0</td>\n",
       "      <td>0.0</td>\n",
       "      <td>0.0</td>\n",
       "      <td>0.0</td>\n",
       "      <td>0.0</td>\n",
       "      <td>0.0</td>\n",
       "      <td>0.0</td>\n",
       "      <td>0.0</td>\n",
       "      <td>0.0</td>\n",
       "      <td>0.0</td>\n",
       "    </tr>\n",
       "    <tr>\n",
       "      <th>3</th>\n",
       "      <td>4109</td>\n",
       "      <td>30391872</td>\n",
       "      <td>558295</td>\n",
       "      <td>2.0</td>\n",
       "      <td>56</td>\n",
       "      <td>90</td>\n",
       "      <td>LA</td>\n",
       "      <td>4.98</td>\n",
       "      <td>1</td>\n",
       "      <td>0.420483</td>\n",
       "      <td>...</td>\n",
       "      <td>0.0</td>\n",
       "      <td>0.0</td>\n",
       "      <td>0.0</td>\n",
       "      <td>0.0</td>\n",
       "      <td>0.0</td>\n",
       "      <td>0.0</td>\n",
       "      <td>0.0</td>\n",
       "      <td>0.0</td>\n",
       "      <td>0.0</td>\n",
       "      <td>0.0</td>\n",
       "    </tr>\n",
       "    <tr>\n",
       "      <th>4</th>\n",
       "      <td>4109</td>\n",
       "      <td>31455679</td>\n",
       "      <td>317336</td>\n",
       "      <td>1.0</td>\n",
       "      <td>49</td>\n",
       "      <td>1</td>\n",
       "      <td>LA</td>\n",
       "      <td>6.78</td>\n",
       "      <td>10</td>\n",
       "      <td>0.212132</td>\n",
       "      <td>...</td>\n",
       "      <td>0.0</td>\n",
       "      <td>0.0</td>\n",
       "      <td>0.0</td>\n",
       "      <td>0.0</td>\n",
       "      <td>0.0</td>\n",
       "      <td>0.0</td>\n",
       "      <td>0.0</td>\n",
       "      <td>0.0</td>\n",
       "      <td>0.0</td>\n",
       "      <td>0.0</td>\n",
       "    </tr>\n",
       "  </tbody>\n",
       "</table>\n",
       "<p>5 rows × 82 columns</p>\n",
       "</div>"
      ],
      "text/plain": [
       "   club_nbr  item_nbr    old_nbr  days_no_sale  cat  subcat state  \\\n",
       "0      4041  54136277  980130476           2.0   47      25    NJ   \n",
       "1      4109  20815152     817534           1.0   41      66    LA   \n",
       "2      4109  21845167     415604           7.0   19      49    LA   \n",
       "3      4109  30391872     558295           2.0   56      90    LA   \n",
       "4      4109  31455679     317336           1.0   49       1    LA   \n",
       "\n",
       "   unit_retail  oh_qty  avg_sales_interval  ... mkt_cat_no_action_taken_tpr  \\\n",
       "0        24.98       4           10.042373  ...                         0.0   \n",
       "1         9.37       1            1.822526  ...                         0.0   \n",
       "2         8.98       3            3.078261  ...                         0.0   \n",
       "3         4.98       1            0.420483  ...                         0.0   \n",
       "4         6.78      10            0.212132  ...                         0.0   \n",
       "\n",
       "  mkt_cat_add_to_picklist_tpr mkt_cat_update_ohq_tpr  mkt_cat_update_loc_tpr  \\\n",
       "0                         0.0                    0.0                     0.0   \n",
       "1                         0.0                    0.0                     0.0   \n",
       "2                         0.0                    0.0                     0.0   \n",
       "3                         0.0                    0.0                     0.0   \n",
       "4                         0.0                    0.0                     0.0   \n",
       "\n",
       "   mkt_cat_new_price_sign_tpr  reg_cat_no_action_taken_tpr  \\\n",
       "0                         0.0                          0.0   \n",
       "1                         0.0                          0.0   \n",
       "2                         0.0                          0.0   \n",
       "3                         0.0                          0.0   \n",
       "4                         0.0                          0.0   \n",
       "\n",
       "  reg_cat_add_to_picklist_tpr reg_cat_update_ohq_tpr reg_cat_update_loc_tpr  \\\n",
       "0                         0.0                    0.0                    0.0   \n",
       "1                         0.0                    0.0                    0.0   \n",
       "2                         0.0                    0.0                    0.0   \n",
       "3                         0.0                    0.0                    0.0   \n",
       "4                         0.0                    0.0                    0.0   \n",
       "\n",
       "   reg_cat_new_price_sign_tpr  \n",
       "0                         0.0  \n",
       "1                         0.0  \n",
       "2                         0.0  \n",
       "3                         0.0  \n",
       "4                         0.0  \n",
       "\n",
       "[5 rows x 82 columns]"
      ]
     },
     "execution_count": 5,
     "metadata": {},
     "output_type": "execute_result"
    }
   ],
   "source": [
    "check_path = \"gs://oyi-ds-vertex-pipeline-bucket-nonprod/335163835346/oyi-nosales-model-pipeline-dev-20221122120157/data-preprocessing_2211829817236520960/training_data_output\"\n",
    "check_result = pd.read_csv(check_path)\n",
    "check_result.head()"
   ]
  },
  {
   "cell_type": "code",
   "execution_count": 6,
   "id": "f644d9e4-7f68-4e20-a9dc-a0ff6a666640",
   "metadata": {},
   "outputs": [
    {
     "data": {
      "text/plain": [
       "club_nbr                       1376591\n",
       "item_nbr                       1376591\n",
       "old_nbr                        1376591\n",
       "days_no_sale                   1376591\n",
       "cat                            1376591\n",
       "                                ...   \n",
       "reg_cat_no_action_taken_tpr    1376591\n",
       "reg_cat_add_to_picklist_tpr    1376591\n",
       "reg_cat_update_ohq_tpr         1376591\n",
       "reg_cat_update_loc_tpr         1376591\n",
       "reg_cat_new_price_sign_tpr     1376591\n",
       "Length: 82, dtype: int64"
      ]
     },
     "execution_count": 6,
     "metadata": {},
     "output_type": "execute_result"
    }
   ],
   "source": [
    "check_result.count()"
   ]
  },
  {
   "cell_type": "code",
   "execution_count": 7,
   "id": "89fd25fb-6660-4a2b-8244-e234c666ac50",
   "metadata": {},
   "outputs": [],
   "source": [
    "gcp_result_path = \"gs://oyi-ds-club-score-cutoff-pipeline-bucket-nonprod/latest_club_thresh_chain_dev/club_thresh_chain.csv\"\n",
    "gcp_result = pd.read_csv(gcp_result_path)"
   ]
  },
  {
   "cell_type": "code",
   "execution_count": 8,
   "id": "573b6f8a-c6ff-4e03-8469-35e32efffe7d",
   "metadata": {},
   "outputs": [
    {
     "data": {
      "text/html": [
       "<div>\n",
       "<style scoped>\n",
       "    .dataframe tbody tr th:only-of-type {\n",
       "        vertical-align: middle;\n",
       "    }\n",
       "\n",
       "    .dataframe tbody tr th {\n",
       "        vertical-align: top;\n",
       "    }\n",
       "\n",
       "    .dataframe thead th {\n",
       "        text-align: right;\n",
       "    }\n",
       "</style>\n",
       "<table border=\"1\" class=\"dataframe\">\n",
       "  <thead>\n",
       "    <tr style=\"text-align: right;\">\n",
       "      <th></th>\n",
       "      <th>club_nbr</th>\n",
       "      <th>cancelled_club_thresh</th>\n",
       "      <th>nosales_club_thresh</th>\n",
       "    </tr>\n",
       "  </thead>\n",
       "  <tbody>\n",
       "    <tr>\n",
       "      <th>0</th>\n",
       "      <td>4041</td>\n",
       "      <td>0.5440</td>\n",
       "      <td>0.2648</td>\n",
       "    </tr>\n",
       "    <tr>\n",
       "      <th>1</th>\n",
       "      <td>4109</td>\n",
       "      <td>0.5617</td>\n",
       "      <td>0.5426</td>\n",
       "    </tr>\n",
       "    <tr>\n",
       "      <th>2</th>\n",
       "      <td>4702</td>\n",
       "      <td>0.5335</td>\n",
       "      <td>0.9891</td>\n",
       "    </tr>\n",
       "    <tr>\n",
       "      <th>3</th>\n",
       "      <td>4703</td>\n",
       "      <td>0.3861</td>\n",
       "      <td>0.3049</td>\n",
       "    </tr>\n",
       "    <tr>\n",
       "      <th>4</th>\n",
       "      <td>4704</td>\n",
       "      <td>0.3949</td>\n",
       "      <td>0.4040</td>\n",
       "    </tr>\n",
       "  </tbody>\n",
       "</table>\n",
       "</div>"
      ],
      "text/plain": [
       "   club_nbr  cancelled_club_thresh  nosales_club_thresh\n",
       "0      4041                 0.5440               0.2648\n",
       "1      4109                 0.5617               0.5426\n",
       "2      4702                 0.5335               0.9891\n",
       "3      4703                 0.3861               0.3049\n",
       "4      4704                 0.3949               0.4040"
      ]
     },
     "execution_count": 8,
     "metadata": {},
     "output_type": "execute_result"
    }
   ],
   "source": [
    "gcp_result.head()"
   ]
  },
  {
   "cell_type": "code",
   "execution_count": 9,
   "id": "19aa5de2-520b-4285-8b3c-3cdcdf53eebc",
   "metadata": {},
   "outputs": [
    {
     "data": {
      "text/plain": [
       "club_nbr                 599\n",
       "cancelled_club_thresh    599\n",
       "nosales_club_thresh      599\n",
       "dtype: int64"
      ]
     },
     "execution_count": 9,
     "metadata": {},
     "output_type": "execute_result"
    }
   ],
   "source": [
    "gcp_result.count()"
   ]
  },
  {
   "cell_type": "code",
   "execution_count": null,
   "id": "25329074-289f-431f-bfae-b475c52f33ac",
   "metadata": {},
   "outputs": [],
   "source": []
  },
  {
   "cell_type": "code",
   "execution_count": null,
   "id": "6d741afe-0f0e-48e2-979b-5779f6c76d59",
   "metadata": {},
   "outputs": [],
   "source": []
  },
  {
   "cell_type": "code",
   "execution_count": null,
   "id": "555f86ef-be1d-4553-a6c8-42deb16dc59e",
   "metadata": {},
   "outputs": [],
   "source": []
  },
  {
   "cell_type": "code",
   "execution_count": null,
   "id": "0a176439-2aca-4d14-8a37-7668cb82aaf6",
   "metadata": {},
   "outputs": [],
   "source": []
  },
  {
   "cell_type": "code",
   "execution_count": null,
   "id": "bb3be87f-32f4-4c26-bb03-cd4175989273",
   "metadata": {},
   "outputs": [],
   "source": []
  }
 ],
 "metadata": {
  "environment": {
   "kernel": "python3",
   "name": "common-cpu.m95",
   "type": "gcloud",
   "uri": "gcr.io/deeplearning-platform-release/base-cpu:m95"
  },
  "kernelspec": {
   "display_name": "Python 3",
   "language": "python",
   "name": "python3"
  },
  "language_info": {
   "codemirror_mode": {
    "name": "ipython",
    "version": 3
   },
   "file_extension": ".py",
   "mimetype": "text/x-python",
   "name": "python",
   "nbconvert_exporter": "python",
   "pygments_lexer": "ipython3",
   "version": "3.7.12"
  }
 },
 "nbformat": 4,
 "nbformat_minor": 5
}
